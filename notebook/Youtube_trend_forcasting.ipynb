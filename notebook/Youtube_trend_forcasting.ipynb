{
 "cells": [
  {
   "cell_type": "code",
   "execution_count": 1,
   "metadata": {},
   "outputs": [],
   "source": [
    "import pandas as pd\n",
    "import numpy as np\n",
    "import matplotlib.pyplot as plt\n",
    "from datetime import datetime\n",
    "from pandas import Series\n",
    "%matplotlib inline\n",
    "#from sklearn.metrics import mean_squared_error"
   ]
  },
  {
   "cell_type": "code",
   "execution_count": 4,
   "metadata": {},
   "outputs": [],
   "source": [
    "ytrend= pd.read_parquet(r\"D:\\Github\\Youtube_trend_forcasting_project\\src\\data\\raw\\0000.parquet\")\n",
    "\n"
   ]
  },
  {
   "cell_type": "code",
   "execution_count": 5,
   "metadata": {},
   "outputs": [
    {
     "data": {
      "text/html": [
       "<div>\n",
       "<style scoped>\n",
       "    .dataframe tbody tr th:only-of-type {\n",
       "        vertical-align: middle;\n",
       "    }\n",
       "\n",
       "    .dataframe tbody tr th {\n",
       "        vertical-align: top;\n",
       "    }\n",
       "\n",
       "    .dataframe thead th {\n",
       "        text-align: right;\n",
       "    }\n",
       "</style>\n",
       "<table border=\"1\" class=\"dataframe\">\n",
       "  <thead>\n",
       "    <tr style=\"text-align: right;\">\n",
       "      <th></th>\n",
       "      <th>videostatsid</th>\n",
       "      <th>ytvideoid</th>\n",
       "      <th>views</th>\n",
       "      <th>comments</th>\n",
       "      <th>likes</th>\n",
       "      <th>dislikes</th>\n",
       "      <th>timestamp</th>\n",
       "    </tr>\n",
       "  </thead>\n",
       "  <tbody>\n",
       "    <tr>\n",
       "      <th>0</th>\n",
       "      <td>1</td>\n",
       "      <td>0GLbwkfhYZk</td>\n",
       "      <td>5722228</td>\n",
       "      <td>28229</td>\n",
       "      <td>185188</td>\n",
       "      <td>10860</td>\n",
       "      <td>2019-04-15 04:42:49</td>\n",
       "    </tr>\n",
       "    <tr>\n",
       "      <th>1</th>\n",
       "      <td>2</td>\n",
       "      <td>O4NB73HTlxI</td>\n",
       "      <td>3673770</td>\n",
       "      <td>31565</td>\n",
       "      <td>278477</td>\n",
       "      <td>4705</td>\n",
       "      <td>2019-04-15 04:42:50</td>\n",
       "    </tr>\n",
       "    <tr>\n",
       "      <th>2</th>\n",
       "      <td>3</td>\n",
       "      <td>VVRcXtSjPcE</td>\n",
       "      <td>253613</td>\n",
       "      <td>1025</td>\n",
       "      <td>4587</td>\n",
       "      <td>87</td>\n",
       "      <td>2019-04-15 04:42:51</td>\n",
       "    </tr>\n",
       "    <tr>\n",
       "      <th>3</th>\n",
       "      <td>4</td>\n",
       "      <td>adzYW5DZoWs</td>\n",
       "      <td>21567972</td>\n",
       "      <td>79208</td>\n",
       "      <td>478496</td>\n",
       "      <td>61703</td>\n",
       "      <td>2019-04-15 04:42:51</td>\n",
       "    </tr>\n",
       "    <tr>\n",
       "      <th>4</th>\n",
       "      <td>5</td>\n",
       "      <td>p_8yK2kmxoo</td>\n",
       "      <td>2385064</td>\n",
       "      <td>10703</td>\n",
       "      <td>133304</td>\n",
       "      <td>1323</td>\n",
       "      <td>2019-04-15 04:42:52</td>\n",
       "    </tr>\n",
       "  </tbody>\n",
       "</table>\n",
       "</div>"
      ],
      "text/plain": [
       "   videostatsid    ytvideoid     views  comments   likes  dislikes  \\\n",
       "0             1  0GLbwkfhYZk   5722228     28229  185188     10860   \n",
       "1             2  O4NB73HTlxI   3673770     31565  278477      4705   \n",
       "2             3  VVRcXtSjPcE    253613      1025    4587        87   \n",
       "3             4  adzYW5DZoWs  21567972     79208  478496     61703   \n",
       "4             5  p_8yK2kmxoo   2385064     10703  133304      1323   \n",
       "\n",
       "             timestamp  \n",
       "0  2019-04-15 04:42:49  \n",
       "1  2019-04-15 04:42:50  \n",
       "2  2019-04-15 04:42:51  \n",
       "3  2019-04-15 04:42:51  \n",
       "4  2019-04-15 04:42:52  "
      ]
     },
     "execution_count": 5,
     "metadata": {},
     "output_type": "execute_result"
    }
   ],
   "source": [
    "ytrend.head()"
   ]
  },
  {
   "cell_type": "code",
   "execution_count": null,
   "metadata": {},
   "outputs": [],
   "source": []
  }
 ],
 "metadata": {
  "kernelspec": {
   "display_name": "Python 3 (ipykernel)",
   "language": "python",
   "name": "python3"
  },
  "language_info": {
   "codemirror_mode": {
    "name": "ipython",
    "version": 3
   },
   "file_extension": ".py",
   "mimetype": "text/x-python",
   "name": "python",
   "nbconvert_exporter": "python",
   "pygments_lexer": "ipython3",
   "version": "3.9.18"
  }
 },
 "nbformat": 4,
 "nbformat_minor": 4
}
